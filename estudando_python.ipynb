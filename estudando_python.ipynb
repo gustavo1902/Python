{
  "nbformat": 4,
  "nbformat_minor": 0,
  "metadata": {
    "colab": {
      "provenance": [],
      "collapsed_sections": [],
      "authorship_tag": "ABX9TyN2N7IIxq85jiodq6YJ2jai",
      "include_colab_link": true
    },
    "kernelspec": {
      "name": "python3",
      "display_name": "Python 3"
    },
    "language_info": {
      "name": "python"
    }
  },
  "cells": [
    {
      "cell_type": "markdown",
      "metadata": {
        "id": "view-in-github",
        "colab_type": "text"
      },
      "source": [
        "<a href=\"https://colab.research.google.com/github/gustavo1902/Estudando-python/blob/main/estudando_python.ipynb\" target=\"_parent\"><img src=\"https://colab.research.google.com/assets/colab-badge.svg\" alt=\"Open In Colab\"/></a>"
      ]
    },
    {
      "cell_type": "code",
      "execution_count": null,
      "metadata": {
        "colab": {
          "base_uri": "https://localhost:8080/",
          "height": 282
        },
        "id": "db6iJ8GHP6OY",
        "outputId": "1b975927-7d6d-4d43-a122-c6d5a74ab5cf"
      },
      "outputs": [
        {
          "output_type": "execute_result",
          "data": {
            "text/plain": [
              "<function matplotlib.pyplot.show(*args, **kw)>"
            ]
          },
          "metadata": {},
          "execution_count": 1
        },
        {
          "output_type": "display_data",
          "data": {
            "text/plain": [
              "<Figure size 432x288 with 1 Axes>"
            ],
            "image/png": "[encoded data removed]"
          },
          "metadata": {
            "needs_background": "light"
          }
        }
      ],
      "source": [
        "## Níveis de oxigênio\n",
        "\n",
        "## Exiba dez minutos de níveis de oxigênio em seu navio.\n",
        "\n",
        "import numpy as np\n",
        "import matplotlib.pyplot as plt\n",
        "data = np.random.default_rng(12345)\n",
        "oxy_nums = data.integers(low=0, high=10, size=10)\n",
        "\n",
        "plt.bar(range(len(oxy_nums)), oxy_nums)\n",
        "plt.show"
      ]
    },
    {
      "cell_type": "code",
      "source": [
        "## Velocidade do navio :Mostre os segundos necessários para ir de 0 a 60 metros por segundo, dada a aceleração do navio em metros por segundo\n",
        "\n",
        "endVelocity = 60\n",
        "startVelocity = 0\n",
        "acceleration = 9.8\n",
        "\n",
        "time = (endVelocity - startVelocity) / acceleration\n",
        "print(\"Time to reach desired velocity = \", time)\n"
      ],
      "metadata": {
        "colab": {
          "base_uri": "https://localhost:8080/"
        },
        "id": "gKXqtpqzaDIZ",
        "outputId": "3ae10f80-b995-4f84-844a-604fe4a68751"
      },
      "execution_count": null,
      "outputs": [
        {
          "output_type": "stream",
          "name": "stdout",
          "text": [
            "Time to reach desired velocity =  6.122448979591836\n"
          ]
        }
      ]
    },
    {
      "cell_type": "code",
      "source": [
        "print(\"Olá,Mundo!\")"
      ],
      "metadata": {
        "colab": {
          "base_uri": "https://localhost:8080/"
        },
        "id": "n_mKrSBzSTBq",
        "outputId": "391618c9-29ac-491d-f23c-87319e75c82e"
      },
      "execution_count": null,
      "outputs": [
        {
          "output_type": "stream",
          "name": "stdout",
          "text": [
            "Olá,Mundo!\n"
          ]
        }
      ]
    },
    {
      "cell_type": "code",
      "source": [
        "print(\"7+4=11\")"
      ],
      "metadata": {
        "colab": {
          "base_uri": "https://localhost:8080/"
        },
        "id": "X5LhWybBTQwZ",
        "outputId": "939909c0-0731-4598-c632-19e5d760684e"
      },
      "execution_count": null,
      "outputs": [
        {
          "output_type": "stream",
          "name": "stdout",
          "text": [
            "7+4=11\n"
          ]
        }
      ]
    },
    {
      "cell_type": "code",
      "source": [
        "print(7+4)"
      ],
      "metadata": {
        "colab": {
          "base_uri": "https://localhost:8080/"
        },
        "id": "CndZXhYxTbLQ",
        "outputId": "c48a7bbe-cfeb-40a1-8ca4-653742a16e1b"
      },
      "execution_count": null,
      "outputs": [
        {
          "output_type": "stream",
          "name": "stdout",
          "text": [
            "11\n"
          ]
        }
      ]
    },
    {
      "cell_type": "code",
      "source": [
        "7-4"
      ],
      "metadata": {
        "colab": {
          "base_uri": "https://localhost:8080/"
        },
        "id": "Xh6Wm1bZTqPv",
        "outputId": "70889621-f331-4fa2-a1e2-e5e3799448aa"
      },
      "execution_count": null,
      "outputs": [
        {
          "output_type": "execute_result",
          "data": {
            "text/plain": [
              "3"
            ]
          },
          "metadata": {},
          "execution_count": 5
        }
      ]
    },
    {
      "cell_type": "code",
      "source": [
        "print(\"Olá\",5)"
      ],
      "metadata": {
        "colab": {
          "base_uri": "https://localhost:8080/"
        },
        "id": "HgcnTvXOTtQ-",
        "outputId": "050e99ed-4e0d-4a12-ded7-e7097a11983d"
      },
      "execution_count": null,
      "outputs": [
        {
          "output_type": "stream",
          "name": "stdout",
          "text": [
            "Olá 5\n"
          ]
        }
      ]
    },
    {
      "cell_type": "code",
      "source": [
        "#Variáveis\n",
        "nome=\"Gustavo\"\n",
        "idade=15\n",
        "peso=60\n",
        "print(nome,idade,peso)"
      ],
      "metadata": {
        "colab": {
          "base_uri": "https://localhost:8080/"
        },
        "id": "H2qarULFT4cU",
        "outputId": "c4962be4-d13b-4a0c-8532-746df68d2900"
      },
      "execution_count": null,
      "outputs": [
        {
          "output_type": "stream",
          "name": "stdout",
          "text": [
            "Gustavo 15 60\n"
          ]
        }
      ]
    },
    {
      "cell_type": "code",
      "source": [
        "nome=input(\"Qual é o seu nome? \")\n",
        "idade=input(\"Qual é a sua idade? \")\n",
        "peso=input(\"Qual é o seu peso? \")"
      ],
      "metadata": {
        "colab": {
          "base_uri": "https://localhost:8080/"
        },
        "id": "gnuVAyuWUpHN",
        "outputId": "05695c4d-3604-455a-db9a-cb6fb47b9111"
      },
      "execution_count": null,
      "outputs": [
        {
          "name": "stdout",
          "output_type": "stream",
          "text": [
            "Qual é o seu nome? Gustavo\n",
            "Qual é a sua idade? 15\n",
            "Qual é o seu peso? 60\n"
          ]
        }
      ]
    },
    {
      "cell_type": "code",
      "source": [
        "nome=input(\"Qual é o seu nome? \")\n",
        "print(\"Olá\", nome)"
      ],
      "metadata": {
        "colab": {
          "base_uri": "https://localhost:8080/"
        },
        "id": "6slZXTtoVp8-",
        "outputId": "6ad0cb5e-4fb8-4053-ff4b-67f306ac5556"
      },
      "execution_count": null,
      "outputs": [
        {
          "output_type": "stream",
          "name": "stdout",
          "text": [
            "Qual é o seu nome? Gustavo\n",
            "Olá Gustavo\n"
          ]
        }
      ]
    },
    {
      "cell_type": "code",
      "source": [
        "print(\"Olá!! informe o dia, mês e ano de seu nascimento:\")\n",
        "dia=input(\"Dia: \")\n",
        "mes=input(\"Mês: \")\n",
        "ano=input(\"Ano: \")\n",
        "print(\"Você nasceu no dia\", dia, \"do mês\", mes, \"e no ano\", ano)"
      ],
      "metadata": {
        "colab": {
          "base_uri": "https://localhost:8080/"
        },
        "id": "T4tBFd5rV_zk",
        "outputId": "189f1e1b-d2a0-4364-e18c-4e77759fa5a4"
      },
      "execution_count": null,
      "outputs": [
        {
          "output_type": "stream",
          "name": "stdout",
          "text": [
            "Olá!! informe o dia, mês e ano de seu nascimento:\n",
            "Dia: 10\n",
            "Mês: 10\n",
            "Ano: 2010\n",
            "Você nasceu no dia 10 do mês 10 e no ano 2010\n"
          ]
        }
      ]
    },
    {
      "cell_type": "code",
      "source": [
        "x=input(\"Escreva um número: \")\n",
        "y=input(\"Escreva um número: \")\n",
        "soma = int(x) + int(y)\n",
        "print(\"O resultado da soma é: \", str(soma))"
      ],
      "metadata": {
        "colab": {
          "base_uri": "https://localhost:8080/"
        },
        "id": "S-ikNQJjXVcc",
        "outputId": "33499928-da14-481e-d057-5d8b9f295b4a"
      },
      "execution_count": null,
      "outputs": [
        {
          "output_type": "stream",
          "name": "stdout",
          "text": [
            "Escreva um número: 5\n",
            "Escreva um número: 5\n",
            "O resultado da soma é:  10\n"
          ]
        }
      ]
    },
    {
      "cell_type": "code",
      "source": [
        "n1 = input(\"Digite um valor: \")\n",
        "print(type(n1))"
      ],
      "metadata": {
        "colab": {
          "base_uri": "https://localhost:8080/"
        },
        "id": "z6zM_dYHad99",
        "outputId": "c2ebd66b-d12e-40f1-e85c-f3ce18c7fdf1"
      },
      "execution_count": null,
      "outputs": [
        {
          "output_type": "stream",
          "name": "stdout",
          "text": [
            "Digite um valor: 5\n",
            "<class 'str'>\n"
          ]
        }
      ]
    },
    {
      "cell_type": "code",
      "source": [
        "n1 = int(input(\"Digite um valor: \"))\n",
        "print(type(n1))"
      ],
      "metadata": {
        "colab": {
          "base_uri": "https://localhost:8080/"
        },
        "id": "u9zYMcVfbf0f",
        "outputId": "635e7f3b-e563-4878-d1a6-ad7bc06cc697"
      },
      "execution_count": null,
      "outputs": [
        {
          "output_type": "stream",
          "name": "stdout",
          "text": [
            "Digite um valor: 5\n",
            "<class 'int'>\n"
          ]
        }
      ]
    },
    {
      "cell_type": "code",
      "source": [
        "n1 = int(input(\"Digite um valor: \"))\n",
        "n2 = int(input(\"Digite um valor: \"))\n",
        "s = n1 + n2\n",
        "print(\"A soma entre\", n1 ,\"e\", n2 ,\"é:\", s)"
      ],
      "metadata": {
        "colab": {
          "base_uri": "https://localhost:8080/"
        },
        "id": "7SBPh2djl4gs",
        "outputId": "53387448-155f-469d-976c-6a9f3e11fc49"
      },
      "execution_count": null,
      "outputs": [
        {
          "output_type": "stream",
          "name": "stdout",
          "text": [
            "Digite um valor: 6\n",
            "Digite um valor: 8\n",
            "A soma entre 6 e 8 é: 14\n"
          ]
        }
      ]
    },
    {
      "cell_type": "code",
      "source": [
        "n1 = int(input(\"Digite um valor: \"))\n",
        "n2 = int(input(\"Digite um valor: \"))\n",
        "s = n1 + n2\n",
        "print('A soma entre {} e {} é {}'.format(n1, n2, s))"
      ],
      "metadata": {
        "colab": {
          "base_uri": "https://localhost:8080/"
        },
        "id": "QutAzRQNnEC-",
        "outputId": "2b326757-dce7-4b51-f58e-0ddf79069354"
      },
      "execution_count": null,
      "outputs": [
        {
          "output_type": "stream",
          "name": "stdout",
          "text": [
            "Digite um valor: 6\n",
            "Digite um valor: 8\n",
            "A soma entre 6 e 8 é 14\n"
          ]
        }
      ]
    },
    {
      "cell_type": "code",
      "source": [
        "n = str(input('Digite um valor: '))\n",
        "print(n)\n",
        "a = float(input('Digite um valor: '))\n",
        "print(a)\n",
        "b = bool(input('Digite um valor: '))\n",
        "print(b)"
      ],
      "metadata": {
        "colab": {
          "base_uri": "https://localhost:8080/"
        },
        "id": "D3krSozOoYVh",
        "outputId": "11a6f643-8a50-455c-d021-3a657c783cf2"
      },
      "execution_count": null,
      "outputs": [
        {
          "output_type": "stream",
          "name": "stdout",
          "text": [
            "Digite um valor: 5\n",
            "5\n",
            "Digite um valor: 5\n",
            "5.0\n",
            "Digite um valor: 5\n",
            "True\n"
          ]
        }
      ]
    },
    {
      "cell_type": "code",
      "source": [
        "a = input('Digite algo: ')\n",
        "print('O tipo primitivo desse valor é ', type(a))\n",
        "print('Só tem espaço? ', a.isspace())\n",
        "print(\"É um número? \", a.isnumeric())\n",
        "print('É alfabpetico? ', a.isalpha())\n",
        "print('Está em maiúsculo?', a.isupper())\n",
        "print('Está em minúsculo?', a.islower())\n",
        "print('Está capitalizada?', a.istitle())"
      ],
      "metadata": {
        "colab": {
          "base_uri": "https://localhost:8080/"
        },
        "id": "6wWA8yXOo6fW",
        "outputId": "2e1882fd-2e22-4249-c29f-8ea079792037"
      },
      "execution_count": null,
      "outputs": [
        {
          "output_type": "stream",
          "name": "stdout",
          "text": [
            "Digite algo: Python\n",
            "O tipo primitivo desse valor é  <class 'str'>\n",
            "Só tem espaço?  False\n",
            "É um número?  False\n",
            "É alfabpetico?  True\n",
            "Está em maiúsculo? False\n",
            "Está em minúsculo? False\n",
            "Está capitalizada? True\n"
          ]
        }
      ]
    },
    {
      "cell_type": "markdown",
      "source": [
        "Posso utilizar o python para construir que tipo de aplicação?  \n",
        "\n",
        "Interface gráfica, web, processamento de imagens, aprendizado de máquina , inteligência artificial , automatização de tarefas , jogos ... "
      ],
      "metadata": {
        "id": "jaDp7KJ01ynX"
      }
    },
    {
      "cell_type": "code",
      "source": [
        "5+3*2\n",
        "5**2\n",
        "5**3\n",
        "19//2\n",
        "19/2\n",
        "18%2\n",
        "7**5\n",
        "81**(1/2)\n",
        "8**(1/3)"
      ],
      "metadata": {
        "id": "boB5Ra552mHI",
        "colab": {
          "base_uri": "https://localhost:8080/"
        },
        "outputId": "f64c573a-5548-4221-821a-4e939143ae1e"
      },
      "execution_count": null,
      "outputs": [
        {
          "output_type": "execute_result",
          "data": {
            "text/plain": [
              "2.0"
            ]
          },
          "metadata": {},
          "execution_count": 13
        }
      ]
    },
    {
      "cell_type": "markdown",
      "source": [
        "Operadores aritméticos"
      ],
      "metadata": {
        "id": "7uB-kR0dMG3n"
      }
    },
    {
      "cell_type": "code",
      "source": [
        "# + adicção, - subtração, * multiplicação, / divisão ** potência // divisão inteira % resto da divisão\n",
        "# ordem de precedência (), **, * / // %, + e -\n",
        "\n",
        "#3 * 2 + 5\n",
        "#5 + 3 * 2\n",
        "(5+3)*2\n",
        "'oi' + 'olá'\n",
        "'oi'*5\n",
        "'='*20\n",
        "nome = input('Qual é seu nome? ')\n",
        "print('Prazer em te conhecer {:=^20}!'.format(nome))"
      ],
      "metadata": {
        "colab": {
          "base_uri": "https://localhost:8080/"
        },
        "id": "-k1ivlU9MPPB",
        "outputId": "d35f7db7-23fa-40c7-b55b-39c905e29386"
      },
      "execution_count": null,
      "outputs": [
        {
          "output_type": "stream",
          "name": "stdout",
          "text": [
            "Qual é seu nome? Gustavo\n",
            "Prazer em te conhecer ======Gustavo=======!\n"
          ]
        }
      ]
    },
    {
      "cell_type": "code",
      "source": [
        "numero = int(input(\"Digite um número\"))\n",
        "antecessor = numero - 1\n",
        "print(\"O antecessor é \", antecessor)"
      ],
      "metadata": {
        "colab": {
          "base_uri": "https://localhost:8080/"
        },
        "id": "_CsvSvhRbvh0",
        "outputId": "b75b5d2c-86dc-4308-feea-8cc33c99818f"
      },
      "execution_count": null,
      "outputs": [
        {
          "output_type": "stream",
          "name": "stdout",
          "text": [
            "Digite um número5\n",
            "O antecessor é  4\n"
          ]
        }
      ]
    },
    {
      "cell_type": "code",
      "source": [
        "numero = int(input(\"Digite um número\"))\n",
        "dobro = numero * 2\n",
        "triplo = numero * 3\n",
        "raiz = numero ** (1/2)\n",
        "print(\"O dobro é \", dobro, \"O triplo é\", triplo,  \"A raiz quadrada é \", raiz)"
      ],
      "metadata": {
        "colab": {
          "base_uri": "https://localhost:8080/"
        },
        "id": "ssR4wOWNcVae",
        "outputId": "0a97a1c2-af93-456c-b40a-6dc32974c764"
      },
      "execution_count": null,
      "outputs": [
        {
          "output_type": "stream",
          "name": "stdout",
          "text": [
            "Digite um número81\n",
            "O dobro é  162 O triplo é 243 A raiz quadrada é  9.0\n"
          ]
        }
      ]
    },
    {
      "cell_type": "code",
      "source": [
        "nota1 = int(input(\"Digite sua primeira nota \"))\n",
        "nota2 = int(input(\"Digite sua segunda nota \"))\n",
        "notaf = nota1 + nota2\n",
        "notax = notaf / 2\n",
        "print(\"A nota final é \", notax)"
      ],
      "metadata": {
        "colab": {
          "base_uri": "https://localhost:8080/"
        },
        "id": "Ih7DuCRhdFOS",
        "outputId": "bcb061a7-7698-4b88-c981-11d2199aad1b"
      },
      "execution_count": null,
      "outputs": [
        {
          "output_type": "stream",
          "name": "stdout",
          "text": [
            "Digite sua primeira nota 8\n",
            "Digite sua segunda nota 9\n",
            "A nota final é  8.5\n"
          ]
        }
      ]
    },
    {
      "cell_type": "code",
      "source": [
        "valor = int(input(\"Digite o valor em metros \"))\n",
        "valorm = valor * 1000\n",
        "valorc = valor * 100\n",
        "print(valorc, \"cm\", \"e\", valorm \"mm\")"
      ],
      "metadata": {
        "id": "fXY4UCWjd4Gh"
      },
      "execution_count": null,
      "outputs": []
    },
    {
      "cell_type": "code",
      "source": [
        "preco = float(input('Qual é o preço do produto? R$ '))\n",
        "novo = preco - (preco * 5 / 100)\n",
        "print(\"O produto que custava R${:.2f}, na promoção com desconto de 5% vai custar R${:.2f}\".format(preco, novo))"
      ],
      "metadata": {
        "colab": {
          "base_uri": "https://localhost:8080/"
        },
        "id": "9VMMdyfaXrI2",
        "outputId": "b1e70ec2-37ed-40b6-f244-402d7f8fc1e1"
      },
      "execution_count": 2,
      "outputs": [
        {
          "output_type": "stream",
          "name": "stdout",
          "text": [
            "Qual é o preço do produto? R$ 10\n",
            "O produto que custava R$10.00, na promoção com desconto de 5% vai custar R$9.50\n"
          ]
        }
      ]
    },
    {
      "cell_type": "code",
      "source": [
        "salario = float(input('Qual é o salário do funcionário? R$ '))\n",
        "novo = salario + (salario * 15 / 100)\n",
        "print('O novo salário é R${:.2f}'.format(novo))"
      ],
      "metadata": {
        "colab": {
          "base_uri": "https://localhost:8080/"
        },
        "id": "iNSe1BMqa633",
        "outputId": "28d9ff9c-9d57-4be1-c6a9-9cc201f835b4"
      },
      "execution_count": 3,
      "outputs": [
        {
          "output_type": "stream",
          "name": "stdout",
          "text": [
            "Qual é o salário do funcionário? R$ 1000\n",
            "O novo salário é R$1150.00\n"
          ]
        }
      ]
    },
    {
      "cell_type": "code",
      "source": [
        "#Exercício conversor de temperatura\n",
        "#note que pela ordem de precedencia não é necessário a utilização de parênteses\n",
        "c = float(input('Informe a temperatura em °C: '))\n",
        "f = 9 * c / 5 + 32\n",
        "print('A temperatura de {} °C corresponde a {}°F'.format(c, f))"
      ],
      "metadata": {
        "colab": {
          "base_uri": "https://localhost:8080/"
        },
        "id": "cM2WHnNgb1bZ",
        "outputId": "ce76d72f-d631-4845-cfe3-9b43d8e8e1f9"
      },
      "execution_count": 4,
      "outputs": [
        {
          "output_type": "stream",
          "name": "stdout",
          "text": [
            "Informe a temperatura em °C: 40\n",
            "A temperatura de 40.0 °C corresponde a 104.0°F\n"
          ]
        }
      ]
    },
    {
      "cell_type": "code",
      "source": [
        "dias = int(input('Quantos dias alugados? '))\n",
        "km = float(input('Quantos Km rodados? '))\n",
        "pago = (dias * 60) + (km * 0.15)\n",
        "print('O total a pagar é de R${:.2f}'.format(pago))"
      ],
      "metadata": {
        "colab": {
          "base_uri": "https://localhost:8080/"
        },
        "id": "iWfVG3yJdImu",
        "outputId": "84dd9f4f-7d5c-43b4-f5ef-38a655ec1c53"
      },
      "execution_count": 5,
      "outputs": [
        {
          "output_type": "stream",
          "name": "stdout",
          "text": [
            "Quantos dias alugados? 5\n",
            "Quantos Km rodados? 100\n",
            "O total a pagar é de R$315.00\n"
          ]
        }
      ]
    }
  ]
}