{
  "nbformat": 4,
  "nbformat_minor": 0,
  "metadata": {
    "colab": {
      "provenance": [],
      "authorship_tag": "ABX9TyPLlSP+H1RtFUA4qUnOUH9h",
      "include_colab_link": true
    },
    "kernelspec": {
      "name": "python3",
      "display_name": "Python 3"
    },
    "language_info": {
      "name": "python"
    }
  },
  "cells": [
    {
      "cell_type": "markdown",
      "metadata": {
        "id": "view-in-github",
        "colab_type": "text"
      },
      "source": [
        "<a href=\"https://colab.research.google.com/github/gustavo1902/Estutando-python/blob/main/estudando_python.ipynb\" target=\"_parent\"><img src=\"https://colab.research.google.com/assets/colab-badge.svg\" alt=\"Open In Colab\"/></a>"
      ]
    },
    {
      "cell_type": "code",
      "execution_count": 1,
      "metadata": {
        "colab": {
          "base_uri": "https://localhost:8080/",
          "height": 282
        },
        "id": "db6iJ8GHP6OY",
        "outputId": "1b975927-7d6d-4d43-a122-c6d5a74ab5cf"
      },
      "outputs": [
        {
          "output_type": "execute_result",
          "data": {
            "text/plain": [
              "<function matplotlib.pyplot.show(*args, **kw)>"
            ]
          },
          "metadata": {},
          "execution_count": 1
        },
        {
          "output_type": "display_data",
          "data": {
            "text/plain": [
              "<Figure size 432x288 with 1 Axes>"
            ],
            "image/png": "[encoded data removed]"
          },
          "metadata": {
            "needs_background": "light"
          }
        }
      ],
      "source": [
        "## Níveis de oxigênio\n",
        "\n",
        "## Exiba dez minutos de níveis de oxigênio em seu navio.\n",
        "\n",
        "import numpy as np\n",
        "import matplotlib.pyplot as plt\n",
        "data = np.random.default_rng(12345)\n",
        "oxy_nums = data.integers(low=0, high=10, size=10)\n",
        "\n",
        "plt.bar(range(len(oxy_nums)), oxy_nums)\n",
        "plt.show"
      ]
    },
    {
      "cell_type": "code",
      "source": [
        "## Velocidade do navio :Mostre os segundos necessários para ir de 0 a 60 metros por segundo, dada a aceleração do navio em metros por segundo\n",
        "\n",
        "endVelocity = 60\n",
        "startVelocity = 0\n",
        "acceleration = 9.8\n",
        "\n",
        "time = (endVelocity - startVelocity) / acceleration\n",
        "print(\"Time to reach desired velocity = \", time)\n"
      ],
      "metadata": {
        "colab": {
          "base_uri": "https://localhost:8080/"
        },
        "id": "gKXqtpqzaDIZ",
        "outputId": "3ae10f80-b995-4f84-844a-604fe4a68751"
      },
      "execution_count": 2,
      "outputs": [
        {
          "output_type": "stream",
          "name": "stdout",
          "text": [
            "Time to reach desired velocity =  6.122448979591836\n"
          ]
        }
      ]
    },
    {
      "cell_type": "code",
      "source": [
        "print(\"Olá,Mundo!\")"
      ],
      "metadata": {
        "colab": {
          "base_uri": "https://localhost:8080/"
        },
        "id": "n_mKrSBzSTBq",
        "outputId": "391618c9-29ac-491d-f23c-87319e75c82e"
      },
      "execution_count": 1,
      "outputs": [
        {
          "output_type": "stream",
          "name": "stdout",
          "text": [
            "Olá,Mundo!\n"
          ]
        }
      ]
    },
    {
      "cell_type": "code",
      "source": [
        "print(\"7+4=11\")"
      ],
      "metadata": {
        "colab": {
          "base_uri": "https://localhost:8080/"
        },
        "id": "X5LhWybBTQwZ",
        "outputId": "939909c0-0731-4598-c632-19e5d760684e"
      },
      "execution_count": 4,
      "outputs": [
        {
          "output_type": "stream",
          "name": "stdout",
          "text": [
            "7+4=11\n"
          ]
        }
      ]
    },
    {
      "cell_type": "code",
      "source": [
        "print(7+4)"
      ],
      "metadata": {
        "colab": {
          "base_uri": "https://localhost:8080/"
        },
        "id": "CndZXhYxTbLQ",
        "outputId": "c48a7bbe-cfeb-40a1-8ca4-653742a16e1b"
      },
      "execution_count": 3,
      "outputs": [
        {
          "output_type": "stream",
          "name": "stdout",
          "text": [
            "11\n"
          ]
        }
      ]
    },
    {
      "cell_type": "code",
      "source": [
        "7-4"
      ],
      "metadata": {
        "colab": {
          "base_uri": "https://localhost:8080/"
        },
        "id": "Xh6Wm1bZTqPv",
        "outputId": "70889621-f331-4fa2-a1e2-e5e3799448aa"
      },
      "execution_count": 5,
      "outputs": [
        {
          "output_type": "execute_result",
          "data": {
            "text/plain": [
              "3"
            ]
          },
          "metadata": {},
          "execution_count": 5
        }
      ]
    },
    {
      "cell_type": "code",
      "source": [
        "print(\"Olá\",5)"
      ],
      "metadata": {
        "colab": {
          "base_uri": "https://localhost:8080/"
        },
        "id": "HgcnTvXOTtQ-",
        "outputId": "050e99ed-4e0d-4a12-ded7-e7097a11983d"
      },
      "execution_count": 7,
      "outputs": [
        {
          "output_type": "stream",
          "name": "stdout",
          "text": [
            "Olá 5\n"
          ]
        }
      ]
    },
    {
      "cell_type": "code",
      "source": [
        "#Variáveis\n",
        "nome=\"Gustavo\"\n",
        "idade=15\n",
        "peso=60\n",
        "print(nome,idade,peso)"
      ],
      "metadata": {
        "colab": {
          "base_uri": "https://localhost:8080/"
        },
        "id": "H2qarULFT4cU",
        "outputId": "c4962be4-d13b-4a0c-8532-746df68d2900"
      },
      "execution_count": 9,
      "outputs": [
        {
          "output_type": "stream",
          "name": "stdout",
          "text": [
            "Gustavo 15 60\n"
          ]
        }
      ]
    },
    {
      "cell_type": "code",
      "source": [
        "nome=input(\"Qual é o seu nome? \")\n",
        "idade=input(\"Qual é a sua idade? \")\n",
        "peso=input(\"Qual é o seu peso? \")"
      ],
      "metadata": {
        "colab": {
          "base_uri": "https://localhost:8080/"
        },
        "id": "gnuVAyuWUpHN",
        "outputId": "05695c4d-3604-455a-db9a-cb6fb47b9111"
      },
      "execution_count": 11,
      "outputs": [
        {
          "name": "stdout",
          "output_type": "stream",
          "text": [
            "Qual é o seu nome? Gustavo\n",
            "Qual é a sua idade? 15\n",
            "Qual é o seu peso? 60\n"
          ]
        }
      ]
    },
    {
      "cell_type": "code",
      "source": [
        "nome=input(\"Qual é o seu nome? \")\n",
        "print(\"Olá\", nome)"
      ],
      "metadata": {
        "colab": {
          "base_uri": "https://localhost:8080/"
        },
        "id": "6slZXTtoVp8-",
        "outputId": "6ad0cb5e-4fb8-4053-ff4b-67f306ac5556"
      },
      "execution_count": 12,
      "outputs": [
        {
          "output_type": "stream",
          "name": "stdout",
          "text": [
            "Qual é o seu nome? Gustavo\n",
            "Olá Gustavo\n"
          ]
        }
      ]
    },
    {
      "cell_type": "code",
      "source": [
        "print(\"Olá!! informe o dia, mês e ano de seu nascimento:\")\n",
        "dia=input(\"Dia: \")\n",
        "mes=input(\"Mês: \")\n",
        "ano=input(\"Ano: \")\n",
        "print(\"Você nasceu no dia\", dia, \"do mês\", mes, \"e no ano\", ano)"
      ],
      "metadata": {
        "colab": {
          "base_uri": "https://localhost:8080/"
        },
        "id": "T4tBFd5rV_zk",
        "outputId": "189f1e1b-d2a0-4364-e18c-4e77759fa5a4"
      },
      "execution_count": 15,
      "outputs": [
        {
          "output_type": "stream",
          "name": "stdout",
          "text": [
            "Olá!! informe o dia, mês e ano de seu nascimento:\n",
            "Dia: 10\n",
            "Mês: 10\n",
            "Ano: 2010\n",
            "Você nasceu no dia 10 do mês 10 e no ano 2010\n"
          ]
        }
      ]
    },
    {
      "cell_type": "code",
      "source": [
        "x=input(\"Escreva um número: \")\n",
        "y=input(\"Escreva um número: \")\n",
        "soma = int(x) + int(y)\n",
        "print(\"O resultado da soma é: \", str(soma))"
      ],
      "metadata": {
        "colab": {
          "base_uri": "https://localhost:8080/"
        },
        "id": "S-ikNQJjXVcc",
        "outputId": "33499928-da14-481e-d057-5d8b9f295b4a"
      },
      "execution_count": 29,
      "outputs": [
        {
          "output_type": "stream",
          "name": "stdout",
          "text": [
            "Escreva um número: 5\n",
            "Escreva um número: 5\n",
            "O resultado da soma é:  10\n"
          ]
        }
      ]
    },
    {
      "cell_type": "code",
      "source": [],
      "metadata": {
        "id": "z6zM_dYHad99"
      },
      "execution_count": null,
      "outputs": []
    }
  ]
}